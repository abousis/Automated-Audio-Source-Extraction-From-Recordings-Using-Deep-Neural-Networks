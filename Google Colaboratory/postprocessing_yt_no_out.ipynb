{
 "cells": [
  {
   "cell_type": "code",
   "execution_count": null,
   "metadata": {
    "colab": {
     "base_uri": "https://localhost:8080/"
    },
    "executionInfo": {
     "elapsed": 11069,
     "status": "ok",
     "timestamp": 1620626290491,
     "user": {
      "displayName": "Angelos Bousis",
      "photoUrl": "https://lh3.googleusercontent.com/a-/AOh14GheIG7Oym86JUInFFmwiQbdPFioS3m4brif2cRQTg=s64",
      "userId": "15262573047553457208"
     },
     "user_tz": -180
    },
    "id": "SwQVs15cCRnY",
    "outputId": "e6d99c72-0abc-47fb-bc39-51b4143ded47"
   },
   "outputs": [],
   "source": [
    "!pip install musdb\n",
    "!pip install librosa\n",
    "!pip install youtube-dl"
   ]
  },
  {
   "cell_type": "code",
   "execution_count": null,
   "metadata": {
    "executionInfo": {
     "elapsed": 4345,
     "status": "ok",
     "timestamp": 1620626298565,
     "user": {
      "displayName": "Angelos Bousis",
      "photoUrl": "https://lh3.googleusercontent.com/a-/AOh14GheIG7Oym86JUInFFmwiQbdPFioS3m4brif2cRQTg=s64",
      "userId": "15262573047553457208"
     },
     "user_tz": -180
    },
    "id": "YYg9t6sGCYsL"
   },
   "outputs": [],
   "source": [
    "# Generic imports\n",
    "import tensorflow as tf\n",
    "from IPython.display import Audio, display\n",
    "import numpy as np\n",
    "import musdb\n",
    "import librosa\n",
    "import librosa.display\n",
    "import soundfile as sf"
   ]
  },
  {
   "cell_type": "code",
   "execution_count": null,
   "metadata": {
    "colab": {
     "base_uri": "https://localhost:8080/"
    },
    "executionInfo": {
     "elapsed": 23961,
     "status": "ok",
     "timestamp": 1620626324291,
     "user": {
      "displayName": "Angelos Bousis",
      "photoUrl": "https://lh3.googleusercontent.com/a-/AOh14GheIG7Oym86JUInFFmwiQbdPFioS3m4brif2cRQTg=s64",
      "userId": "15262573047553457208"
     },
     "user_tz": -180
    },
    "id": "260QZSXDC-Co",
    "outputId": "23225253-4054-4f2b-c38b-9eb3dc1e8aae"
   },
   "outputs": [],
   "source": [
    "from google.colab import drive\n",
    "drive.mount('/gdrive')"
   ]
  },
  {
   "cell_type": "code",
   "execution_count": null,
   "metadata": {
    "executionInfo": {
     "elapsed": 10092,
     "status": "ok",
     "timestamp": 1620626337698,
     "user": {
      "displayName": "Angelos Bousis",
      "photoUrl": "https://lh3.googleusercontent.com/a-/AOh14GheIG7Oym86JUInFFmwiQbdPFioS3m4brif2cRQTg=s64",
      "userId": "15262573047553457208"
     },
     "user_tz": -180
    },
    "id": "hg5swYyx4eFW"
   },
   "outputs": [],
   "source": [
    "model = tf.keras.models.load_model(\"your-model-saving-path-to-gdrive/model.h5\", compile=False)"
   ]
  },
  {
   "cell_type": "code",
   "execution_count": null,
   "metadata": {
    "executionInfo": {
     "elapsed": 1708,
     "status": "ok",
     "timestamp": 1620630782419,
     "user": {
      "displayName": "Angelos Bousis",
      "photoUrl": "https://lh3.googleusercontent.com/a-/AOh14GheIG7Oym86JUInFFmwiQbdPFioS3m4brif2cRQTg=s64",
      "userId": "15262573047553457208"
     },
     "user_tz": -180
    },
    "id": "Clfy2zsXZo3P"
   },
   "outputs": [],
   "source": [
    "def estimate_sources(audio):\n",
    "  # Resampling to 22.05 kHz\n",
    "  channel = librosa.core.resample(audio, orig_sr=44100, target_sr=22050)\n",
    "\n",
    "  # Calculating Short Time Fourier Transform\n",
    "  mixture_ft_magn = np.abs(librosa.stft(channel, n_fft=4096, win_length=1024, hop_length=256, window='hann'))\n",
    "  mixture_ft_phase = np.angle(librosa.stft(channel,n_fft=4096, win_length=1024, hop_length=256, window='hann'))\n",
    "\n",
    "  # Parameters\n",
    "  freq_bins = mixture_ft_magn.shape[0]               # 2049\n",
    "  time_bins = mixture_ft_magn.shape[1]\n",
    "  num_frames = 9                                     # Each input for neural net is ~104.49 msec\n",
    "  num_ft_bins = freq_bins * num_frames               # 2049(0~11.025kHz) * 9 (~104.49 msec)\n",
    "  medium_frame = int(np.floor(num_frames/2))         # 4\n",
    "  hop_num_frames = 8  \n",
    "\n",
    "  # Padding for frames overlapping\n",
    "  pad_min = np.zeros((freq_bins, medium_frame))\n",
    "  pad_min[:,:] = min(mixture_ft_magn.min(0))\n",
    "  mixture_padded = np.concatenate((pad_min, mixture_ft_magn, pad_min), axis=1)\n",
    "\n",
    "  # Creating neural net's input\n",
    "  input = np.zeros((time_bins, num_ft_bins))\n",
    "  for i in range(time_bins):\n",
    "            start_index = i\n",
    "            end_index = start_index + num_frames\n",
    "            input[i:i+1,:] = np.transpose(np.reshape(mixture_padded[:,start_index:end_index],(num_ft_bins,1),order=\"F\"))\n",
    "\n",
    "  # Estimating soft masks\n",
    "  vocals_soft_mask = np.zeros((freq_bins, time_bins))\n",
    "#   predictions = model.predict(input)\n",
    "  for i in range(time_bins):\n",
    "        temp_soft_mask = np.transpose(np.reshape(model.predict(input[i:i+1,:]), (num_frames, freq_bins)))\n",
    "      #   temp_soft_mask = np.transpose(np.reshape(predictions[i,:],(num_frames, freq_bins)))\n",
    "        vocals_soft_mask[:,i] = temp_soft_mask[:, medium_frame]\n",
    "  accompaniment_soft_mask = 1-vocals_soft_mask\n",
    "\n",
    "  # Applying thresholds to make signals cleaner\n",
    "  vocals_soft_mask[vocals_soft_mask < 0.15] = 0\n",
    "  accompaniment_soft_mask[accompaniment_soft_mask < 0.8] = 0\n",
    "  voc_ft_magn = np.multiply(vocals_soft_mask, mixture_ft_magn)\n",
    "  acc_ft_magn = np.multiply(accompaniment_soft_mask, mixture_ft_magn)\n",
    "\n",
    "  # Computing complex signals\n",
    "  voc_complex_signal = np.multiply(voc_ft_magn, mixture_ft_phase)\n",
    "  acc_complex_signal = np.multiply(acc_ft_magn, mixture_ft_phase)\n",
    "\n",
    "  # iSTFT reconstruction of time domain signals and resampling to 44.1 kHz \n",
    "  vocals_audio= librosa.istft(voc_complex_signal, hop_length=256, win_length=1024, window='hann')\n",
    "  vocals_audio = librosa.core.resample(vocals_audio, orig_sr=22050, target_sr=44100)\n",
    "  accompaniment_audio = librosa.istft(acc_complex_signal, hop_length=256, win_length=1024, window='hann')\n",
    "  accompaniment_audio = librosa.core.resample(accompaniment_audio, orig_sr=22050, target_sr=44100)\n",
    "\n",
    "  estimates = {\n",
    "        'vocals': vocals_audio,\n",
    "        'accompaniment': accompaniment_audio,\n",
    "    }\n",
    "\n",
    "  return estimates"
   ]
  },
  {
   "cell_type": "code",
   "execution_count": null,
   "metadata": {
    "colab": {
     "base_uri": "https://localhost:8080/",
     "height": 340
    },
    "executionInfo": {
     "elapsed": 1017,
     "status": "ok",
     "timestamp": 1620630695629,
     "user": {
      "displayName": "Angelos Bousis",
      "photoUrl": "https://lh3.googleusercontent.com/a-/AOh14GheIG7Oym86JUInFFmwiQbdPFioS3m4brif2cRQTg=s64",
      "userId": "15262573047553457208"
     },
     "user_tz": -180
    },
    "id": "DtEujidMW-BC",
    "outputId": "9cbfb64b-17d4-4e14-fdf6-825028f1505d"
   },
   "outputs": [],
   "source": [
    "#Youtube\n",
    "import youtube_dl\n",
    "from IPython.display import HTML\n",
    "url = \"nv2rp5JCWj0\" #@param {type:\"string\"}\n",
    "start =  90#@param {type:\"number\"}\n",
    "stop =  120#@param {type:\"number\"}\n",
    "embed_url = \"https://www.youtube.com/embed/%s?rel=0&start=%d&end=%d&amp;controls=0&amp;showinfo=0\" % (url, start, stop)\n",
    "HTML('<iframe width=\"560\" height=\"315\" src=' + embed_url + 'frameborder=\"0\" allowfullscreen></iframe>')"
   ]
  },
  {
   "cell_type": "code",
   "execution_count": null,
   "metadata": {
    "colab": {
     "base_uri": "https://localhost:8080/",
     "height": 217,
     "output_embedded_package_id": "16f8S_rqNsFEpY_gRH59uW8_P65j2hdMv"
    },
    "executionInfo": {
     "elapsed": 21108,
     "status": "ok",
     "timestamp": 1620630720243,
     "user": {
      "displayName": "Angelos Bousis",
      "photoUrl": "https://lh3.googleusercontent.com/a-/AOh14GheIG7Oym86JUInFFmwiQbdPFioS3m4brif2cRQTg=s64",
      "userId": "15262573047553457208"
     },
     "user_tz": -180
    },
    "id": "CC8M48QGXCRj",
    "outputId": "d5083515-b825-4386-f1e2-61fa06df8bf8"
   },
   "outputs": [],
   "source": [
    "def my_hook(d):\n",
    "    if d['status'] == 'finished':\n",
    "        print('Done downloading...')\n",
    "\n",
    "\n",
    "ydl_opts = {\n",
    "    'format': 'bestaudio/best',\n",
    "    'postprocessors': [{\n",
    "        'key': 'FFmpegExtractAudio',\n",
    "        'preferredcodec': 'wav',\n",
    "        'preferredquality': '44100',\n",
    "    }],\n",
    "    'outtmpl': '%(title)s.wav',\n",
    "    'progress_hooks': [my_hook],\n",
    "}\n",
    "with youtube_dl.YoutubeDL(ydl_opts) as ydl:\n",
    "    info = ydl.extract_info(url, download=False)\n",
    "    status = ydl.download([url])\n",
    "\n",
    "audio, rate = librosa.load(info.get(\"title\", None) + '.wav', sr=44100, mono=True)\n",
    "audio = audio[start*rate:stop*rate]\n",
    "display(Audio(audio, rate=rate))"
   ]
  },
  {
   "cell_type": "code",
   "execution_count": null,
   "metadata": {
    "executionInfo": {
     "elapsed": 6222,
     "status": "ok",
     "timestamp": 1620630792591,
     "user": {
      "displayName": "Angelos Bousis",
      "photoUrl": "https://lh3.googleusercontent.com/a-/AOh14GheIG7Oym86JUInFFmwiQbdPFioS3m4brif2cRQTg=s64",
      "userId": "15262573047553457208"
     },
     "user_tz": -180
    },
    "id": "uiymYFPRboga"
   },
   "outputs": [],
   "source": [
    "estimates = estimate_sources(audio)"
   ]
  },
  {
   "cell_type": "code",
   "execution_count": null,
   "metadata": {
    "colab": {
     "base_uri": "https://localhost:8080/",
     "height": 61,
     "output_embedded_package_id": "1npGfhsmKwVxp_K2-uIVHzLUmXAZpc4To"
    },
    "executionInfo": {
     "elapsed": 9031,
     "status": "ok",
     "timestamp": 1620630803163,
     "user": {
      "displayName": "Angelos Bousis",
      "photoUrl": "https://lh3.googleusercontent.com/a-/AOh14GheIG7Oym86JUInFFmwiQbdPFioS3m4brif2cRQTg=s64",
      "userId": "15262573047553457208"
     },
     "user_tz": -180
    },
    "id": "fjcFSknaw8ec",
    "outputId": "decb6101-2d5d-4838-ba6a-5c1371ea2cd7"
   },
   "outputs": [],
   "source": [
    "Audio(estimates['vocals'], rate=44100)"
   ]
  },
  {
   "cell_type": "code",
   "execution_count": null,
   "metadata": {
    "colab": {
     "base_uri": "https://localhost:8080/",
     "height": 61,
     "output_embedded_package_id": "1l1c9w0Ixw_SNou9CSMWtH4wmslq18s00"
    },
    "executionInfo": {
     "elapsed": 9726,
     "status": "ok",
     "timestamp": 1620630844590,
     "user": {
      "displayName": "Angelos Bousis",
      "photoUrl": "https://lh3.googleusercontent.com/a-/AOh14GheIG7Oym86JUInFFmwiQbdPFioS3m4brif2cRQTg=s64",
      "userId": "15262573047553457208"
     },
     "user_tz": -180
    },
    "id": "i2Pg8v89xEkS",
    "outputId": "3d835afc-bfcb-475b-9da1-54dd2982acef"
   },
   "outputs": [],
   "source": [
    "Audio(estimates['accompaniment'], rate=44100)"
   ]
  },
  {
   "cell_type": "code",
   "execution_count": null,
   "metadata": {},
   "outputs": [],
   "source": [
    "sf.write('your-saving-track-path_vocals.wav', estimates['vocals'], 44100, subtype='PCM_24')\n",
    "sf.write('your-saving-track-path_accompaniment.wav', estimates['accompaniment'], 44100, subtype='PCM_24')"
   ]
  }
 ],
 "metadata": {
  "accelerator": "GPU",
  "colab": {
   "authorship_tag": "ABX9TyNjGsLzguoPmOfFC/a7uWBe",
   "collapsed_sections": [],
   "name": "youtube.ipynb",
   "provenance": []
  },
  "kernelspec": {
   "display_name": "Python 3",
   "name": "python3"
  }
 },
 "nbformat": 4,
 "nbformat_minor": 0
}